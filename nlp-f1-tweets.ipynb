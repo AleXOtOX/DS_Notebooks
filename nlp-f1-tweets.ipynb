{
 "cells": [
  {
   "cell_type": "code",
   "execution_count": 1,
   "id": "b12dea39",
   "metadata": {
    "_cell_guid": "b1076dfc-b9ad-4769-8c92-a6c4dae69d19",
    "_uuid": "8f2839f25d086af736a60e9eeb907d3b93b6e0e5",
    "execution": {
     "iopub.execute_input": "2021-12-27T18:23:46.890782Z",
     "iopub.status.busy": "2021-12-27T18:23:46.889642Z",
     "iopub.status.idle": "2021-12-27T18:23:46.904229Z",
     "shell.execute_reply": "2021-12-27T18:23:46.905124Z",
     "shell.execute_reply.started": "2021-12-27T18:19:38.018378Z"
    },
    "papermill": {
     "duration": 0.037681,
     "end_time": "2021-12-27T18:23:46.905602",
     "exception": false,
     "start_time": "2021-12-27T18:23:46.867921",
     "status": "completed"
    },
    "tags": []
   },
   "outputs": [
    {
     "name": "stdout",
     "output_type": "stream",
     "text": [
      "/kaggle/input/nlp-getting-started/sample_submission.csv\n",
      "/kaggle/input/nlp-getting-started/train.csv\n",
      "/kaggle/input/nlp-getting-started/test.csv\n"
     ]
    }
   ],
   "source": [
    "# This Python 3 environment comes with many helpful analytics libraries installed\n",
    "# It is defined by the kaggle/python Docker image: https://github.com/kaggle/docker-python\n",
    "# For example, here's several helpful packages to load\n",
    "\n",
    "import numpy as np # linear algebra\n",
    "import pandas as pd # data processing, CSV file I/O (e.g. pd.read_csv)\n",
    "\n",
    "# Input data files are available in the read-only \"../input/\" directory\n",
    "# For example, running this (by clicking run or pressing Shift+Enter) will list all files under the input directory\n",
    "\n",
    "import os\n",
    "for dirname, _, filenames in os.walk('/kaggle/input'):\n",
    "    for filename in filenames:\n",
    "        print(os.path.join(dirname, filename))\n",
    "\n",
    "# You can write up to 20GB to the current directory (/kaggle/working/) that gets preserved as output when you create a version using \"Save & Run All\" \n",
    "# You can also write temporary files to /kaggle/temp/, but they won't be saved outside of the current session"
   ]
  },
  {
   "cell_type": "code",
   "execution_count": 2,
   "id": "4bfb3c66",
   "metadata": {
    "execution": {
     "iopub.execute_input": "2021-12-27T18:23:46.945070Z",
     "iopub.status.busy": "2021-12-27T18:23:46.944415Z",
     "iopub.status.idle": "2021-12-27T18:23:46.998296Z",
     "shell.execute_reply": "2021-12-27T18:23:46.998879Z",
     "shell.execute_reply.started": "2021-12-27T18:19:38.259574Z"
    },
    "papermill": {
     "duration": 0.074588,
     "end_time": "2021-12-27T18:23:46.999056",
     "exception": false,
     "start_time": "2021-12-27T18:23:46.924468",
     "status": "completed"
    },
    "tags": []
   },
   "outputs": [],
   "source": [
    "tweets_train = pd.read_csv(\"/kaggle/input/nlp-getting-started/train.csv\")"
   ]
  },
  {
   "cell_type": "code",
   "execution_count": 3,
   "id": "ff1d825e",
   "metadata": {
    "execution": {
     "iopub.execute_input": "2021-12-27T18:23:47.037585Z",
     "iopub.status.busy": "2021-12-27T18:23:47.036951Z",
     "iopub.status.idle": "2021-12-27T18:23:47.055991Z",
     "shell.execute_reply": "2021-12-27T18:23:47.056507Z",
     "shell.execute_reply.started": "2021-12-27T18:19:38.505514Z"
    },
    "papermill": {
     "duration": 0.040183,
     "end_time": "2021-12-27T18:23:47.056671",
     "exception": false,
     "start_time": "2021-12-27T18:23:47.016488",
     "status": "completed"
    },
    "tags": []
   },
   "outputs": [
    {
     "data": {
      "text/html": [
       "<div>\n",
       "<style scoped>\n",
       "    .dataframe tbody tr th:only-of-type {\n",
       "        vertical-align: middle;\n",
       "    }\n",
       "\n",
       "    .dataframe tbody tr th {\n",
       "        vertical-align: top;\n",
       "    }\n",
       "\n",
       "    .dataframe thead th {\n",
       "        text-align: right;\n",
       "    }\n",
       "</style>\n",
       "<table border=\"1\" class=\"dataframe\">\n",
       "  <thead>\n",
       "    <tr style=\"text-align: right;\">\n",
       "      <th></th>\n",
       "      <th>id</th>\n",
       "      <th>keyword</th>\n",
       "      <th>location</th>\n",
       "      <th>text</th>\n",
       "      <th>target</th>\n",
       "    </tr>\n",
       "  </thead>\n",
       "  <tbody>\n",
       "    <tr>\n",
       "      <th>0</th>\n",
       "      <td>1</td>\n",
       "      <td>NaN</td>\n",
       "      <td>NaN</td>\n",
       "      <td>Our Deeds are the Reason of this #earthquake M...</td>\n",
       "      <td>1</td>\n",
       "    </tr>\n",
       "    <tr>\n",
       "      <th>1</th>\n",
       "      <td>4</td>\n",
       "      <td>NaN</td>\n",
       "      <td>NaN</td>\n",
       "      <td>Forest fire near La Ronge Sask. Canada</td>\n",
       "      <td>1</td>\n",
       "    </tr>\n",
       "    <tr>\n",
       "      <th>2</th>\n",
       "      <td>5</td>\n",
       "      <td>NaN</td>\n",
       "      <td>NaN</td>\n",
       "      <td>All residents asked to 'shelter in place' are ...</td>\n",
       "      <td>1</td>\n",
       "    </tr>\n",
       "    <tr>\n",
       "      <th>3</th>\n",
       "      <td>6</td>\n",
       "      <td>NaN</td>\n",
       "      <td>NaN</td>\n",
       "      <td>13,000 people receive #wildfires evacuation or...</td>\n",
       "      <td>1</td>\n",
       "    </tr>\n",
       "    <tr>\n",
       "      <th>4</th>\n",
       "      <td>7</td>\n",
       "      <td>NaN</td>\n",
       "      <td>NaN</td>\n",
       "      <td>Just got sent this photo from Ruby #Alaska as ...</td>\n",
       "      <td>1</td>\n",
       "    </tr>\n",
       "  </tbody>\n",
       "</table>\n",
       "</div>"
      ],
      "text/plain": [
       "   id keyword location                                               text  \\\n",
       "0   1     NaN      NaN  Our Deeds are the Reason of this #earthquake M...   \n",
       "1   4     NaN      NaN             Forest fire near La Ronge Sask. Canada   \n",
       "2   5     NaN      NaN  All residents asked to 'shelter in place' are ...   \n",
       "3   6     NaN      NaN  13,000 people receive #wildfires evacuation or...   \n",
       "4   7     NaN      NaN  Just got sent this photo from Ruby #Alaska as ...   \n",
       "\n",
       "   target  \n",
       "0       1  \n",
       "1       1  \n",
       "2       1  \n",
       "3       1  \n",
       "4       1  "
      ]
     },
     "execution_count": 3,
     "metadata": {},
     "output_type": "execute_result"
    }
   ],
   "source": [
    "tweets_train.head()"
   ]
  },
  {
   "cell_type": "markdown",
   "id": "8615bffa",
   "metadata": {
    "papermill": {
     "duration": 0.017477,
     "end_time": "2021-12-27T18:23:47.092037",
     "exception": false,
     "start_time": "2021-12-27T18:23:47.074560",
     "status": "completed"
    },
    "tags": []
   },
   "source": [
    "Drop the columns without information"
   ]
  },
  {
   "cell_type": "code",
   "execution_count": 4,
   "id": "40010600",
   "metadata": {
    "execution": {
     "iopub.execute_input": "2021-12-27T18:23:47.132810Z",
     "iopub.status.busy": "2021-12-27T18:23:47.131856Z",
     "iopub.status.idle": "2021-12-27T18:23:47.141911Z",
     "shell.execute_reply": "2021-12-27T18:23:47.142344Z",
     "shell.execute_reply.started": "2021-12-27T18:19:38.961963Z"
    },
    "papermill": {
     "duration": 0.032499,
     "end_time": "2021-12-27T18:23:47.142546",
     "exception": false,
     "start_time": "2021-12-27T18:23:47.110047",
     "status": "completed"
    },
    "tags": []
   },
   "outputs": [],
   "source": [
    "tweets_train = tweets_train.drop([\"id\",\"location\"],axis=1)"
   ]
  },
  {
   "cell_type": "code",
   "execution_count": 5,
   "id": "5653f43b",
   "metadata": {
    "execution": {
     "iopub.execute_input": "2021-12-27T18:23:47.181570Z",
     "iopub.status.busy": "2021-12-27T18:23:47.180675Z",
     "iopub.status.idle": "2021-12-27T18:23:47.201047Z",
     "shell.execute_reply": "2021-12-27T18:23:47.200487Z",
     "shell.execute_reply.started": "2021-12-27T18:19:39.172914Z"
    },
    "papermill": {
     "duration": 0.040928,
     "end_time": "2021-12-27T18:23:47.201196",
     "exception": false,
     "start_time": "2021-12-27T18:23:47.160268",
     "status": "completed"
    },
    "tags": []
   },
   "outputs": [
    {
     "name": "stdout",
     "output_type": "stream",
     "text": [
      "<class 'pandas.core.frame.DataFrame'>\n",
      "RangeIndex: 7613 entries, 0 to 7612\n",
      "Data columns (total 3 columns):\n",
      " #   Column   Non-Null Count  Dtype \n",
      "---  ------   --------------  ----- \n",
      " 0   keyword  7552 non-null   object\n",
      " 1   text     7613 non-null   object\n",
      " 2   target   7613 non-null   int64 \n",
      "dtypes: int64(1), object(2)\n",
      "memory usage: 178.6+ KB\n"
     ]
    }
   ],
   "source": [
    "tweets_train.info()"
   ]
  },
  {
   "cell_type": "code",
   "execution_count": 6,
   "id": "e8eac54d",
   "metadata": {
    "execution": {
     "iopub.execute_input": "2021-12-27T18:23:47.243271Z",
     "iopub.status.busy": "2021-12-27T18:23:47.242583Z",
     "iopub.status.idle": "2021-12-27T18:23:47.245443Z",
     "shell.execute_reply": "2021-12-27T18:23:47.245842Z",
     "shell.execute_reply.started": "2021-12-27T18:19:39.374866Z"
    },
    "papermill": {
     "duration": 0.026665,
     "end_time": "2021-12-27T18:23:47.245990",
     "exception": false,
     "start_time": "2021-12-27T18:23:47.219325",
     "status": "completed"
    },
    "tags": []
   },
   "outputs": [],
   "source": [
    "tweets_train[\"text\"] = tweets_train[\"text\"].astype(\"string\")"
   ]
  },
  {
   "cell_type": "code",
   "execution_count": 7,
   "id": "830848ac",
   "metadata": {
    "execution": {
     "iopub.execute_input": "2021-12-27T18:23:47.292868Z",
     "iopub.status.busy": "2021-12-27T18:23:47.291881Z",
     "iopub.status.idle": "2021-12-27T18:23:47.294845Z",
     "shell.execute_reply": "2021-12-27T18:23:47.294317Z",
     "shell.execute_reply.started": "2021-12-27T18:19:39.627177Z"
    },
    "papermill": {
     "duration": 0.030865,
     "end_time": "2021-12-27T18:23:47.294999",
     "exception": false,
     "start_time": "2021-12-27T18:23:47.264134",
     "status": "completed"
    },
    "tags": []
   },
   "outputs": [],
   "source": [
    "tweets_train[\"text\"] = tweets_train[\"text\"].apply(lambda x: x.lower())"
   ]
  },
  {
   "cell_type": "code",
   "execution_count": 8,
   "id": "916b2647",
   "metadata": {
    "execution": {
     "iopub.execute_input": "2021-12-27T18:23:47.336833Z",
     "iopub.status.busy": "2021-12-27T18:23:47.335997Z",
     "iopub.status.idle": "2021-12-27T18:23:48.921867Z",
     "shell.execute_reply": "2021-12-27T18:23:48.921266Z",
     "shell.execute_reply.started": "2021-12-27T18:19:39.825102Z"
    },
    "papermill": {
     "duration": 1.608982,
     "end_time": "2021-12-27T18:23:48.922012",
     "exception": false,
     "start_time": "2021-12-27T18:23:47.313030",
     "status": "completed"
    },
    "tags": []
   },
   "outputs": [],
   "source": [
    "import re\n",
    "import string\n",
    "import unidecode\n",
    "from nltk.tokenize import word_tokenize\n",
    "from nltk.corpus import stopwords\n",
    "from stop_words import get_stop_words\n",
    "from nltk.stem import WordNetLemmatizer\n",
    "from nltk.corpus import words\n",
    "from nltk.stem.snowball import SnowballStemmer"
   ]
  },
  {
   "cell_type": "code",
   "execution_count": 9,
   "id": "59ff6ec2",
   "metadata": {
    "execution": {
     "iopub.execute_input": "2021-12-27T18:23:48.964430Z",
     "iopub.status.busy": "2021-12-27T18:23:48.963559Z",
     "iopub.status.idle": "2021-12-27T18:23:48.966478Z",
     "shell.execute_reply": "2021-12-27T18:23:48.965873Z",
     "shell.execute_reply.started": "2021-12-27T18:19:40.104926Z"
    },
    "papermill": {
     "duration": 0.025901,
     "end_time": "2021-12-27T18:23:48.966612",
     "exception": false,
     "start_time": "2021-12-27T18:23:48.940711",
     "status": "completed"
    },
    "tags": []
   },
   "outputs": [],
   "source": [
    "\n",
    "translator = str.maketrans(\" \",\" \",string.punctuation)\n",
    "translator_number = str.maketrans(\" \",\" \",\"0123456789\")"
   ]
  },
  {
   "cell_type": "code",
   "execution_count": 10,
   "id": "07ab9005",
   "metadata": {
    "execution": {
     "iopub.execute_input": "2021-12-27T18:23:49.010514Z",
     "iopub.status.busy": "2021-12-27T18:23:49.009852Z",
     "iopub.status.idle": "2021-12-27T18:23:49.012672Z",
     "shell.execute_reply": "2021-12-27T18:23:49.012182Z",
     "shell.execute_reply.started": "2021-12-27T18:19:40.453983Z"
    },
    "papermill": {
     "duration": 0.027195,
     "end_time": "2021-12-27T18:23:49.012844",
     "exception": false,
     "start_time": "2021-12-27T18:23:48.985649",
     "status": "completed"
    },
    "tags": []
   },
   "outputs": [],
   "source": [
    "def remove_http(string):\n",
    "    return re.sub(\"@\\S+|https?:\\S+|http?:\\S|[^A-Za-z0-9]+\", \" \", string)\n",
    "\n",
    "def remove_accents(string):\n",
    "    return unidecode.unidecode(string)\n",
    "\n",
    "def remove_stopwords(string):\n",
    "    tokens = word_tokenize(string)\n",
    "    filtred = [word for word in tokens if not word in get_stop_words(\"en\")]\n",
    "    return \" \".join(filtred)\n"
   ]
  },
  {
   "cell_type": "code",
   "execution_count": 11,
   "id": "d7b0c1c1",
   "metadata": {
    "execution": {
     "iopub.execute_input": "2021-12-27T18:23:49.057305Z",
     "iopub.status.busy": "2021-12-27T18:23:49.056660Z",
     "iopub.status.idle": "2021-12-27T18:23:51.029919Z",
     "shell.execute_reply": "2021-12-27T18:23:51.029305Z",
     "shell.execute_reply.started": "2021-12-27T18:19:40.879149Z"
    },
    "papermill": {
     "duration": 1.999025,
     "end_time": "2021-12-27T18:23:51.030057",
     "exception": false,
     "start_time": "2021-12-27T18:23:49.031032",
     "status": "completed"
    },
    "tags": []
   },
   "outputs": [],
   "source": [
    "tweets_train[\"text\"] = tweets_train[\"text\"].apply(remove_accents)\n",
    "tweets_train[\"text\"] = tweets_train[\"text\"].apply(remove_http)\n",
    "tweets_train[\"text\"] = tweets_train[\"text\"].apply(lambda x: x.translate(translator))\n",
    "tweets_train[\"text\"] = tweets_train[\"text\"].apply(lambda x: x.translate(translator_number))\n",
    "tweets_train[\"text\"] = tweets_train[\"text\"].apply(remove_stopwords)\n"
   ]
  },
  {
   "cell_type": "code",
   "execution_count": 12,
   "id": "10b6fa04",
   "metadata": {
    "execution": {
     "iopub.execute_input": "2021-12-27T18:23:51.074426Z",
     "iopub.status.busy": "2021-12-27T18:23:51.073766Z",
     "iopub.status.idle": "2021-12-27T18:23:51.079615Z",
     "shell.execute_reply": "2021-12-27T18:23:51.078952Z",
     "shell.execute_reply.started": "2021-12-27T18:19:42.091268Z"
    },
    "papermill": {
     "duration": 0.030529,
     "end_time": "2021-12-27T18:23:51.079752",
     "exception": false,
     "start_time": "2021-12-27T18:23:51.049223",
     "status": "completed"
    },
    "tags": []
   },
   "outputs": [
    {
     "data": {
      "text/plain": [
       "0            deeds reason earthquake may allah forgive us\n",
       "1                   forest fire near la ronge sask canada\n",
       "2       residents asked shelter place notified officer...\n",
       "3       people receive wildfires evacuation orders cal...\n",
       "4       just got sent photo ruby alaska smoke wildfire...\n",
       "                              ...                        \n",
       "7608    two giant cranes holding bridge collapse nearb...\n",
       "7609    thetawniest control wild fires california even...\n",
       "7610                            m utc km s volcano hawaii\n",
       "7611    police investigating e bike collided car littl...\n",
       "7612    latest homes razed northern california wildfir...\n",
       "Name: text, Length: 7613, dtype: object"
      ]
     },
     "execution_count": 12,
     "metadata": {},
     "output_type": "execute_result"
    }
   ],
   "source": [
    "tweets_train[\"text\"]"
   ]
  },
  {
   "cell_type": "code",
   "execution_count": 13,
   "id": "ba72f503",
   "metadata": {
    "execution": {
     "iopub.execute_input": "2021-12-27T18:23:51.124779Z",
     "iopub.status.busy": "2021-12-27T18:23:51.123850Z",
     "iopub.status.idle": "2021-12-27T18:23:51.126681Z",
     "shell.execute_reply": "2021-12-27T18:23:51.126075Z",
     "shell.execute_reply.started": "2021-12-27T18:19:42.100815Z"
    },
    "papermill": {
     "duration": 0.027489,
     "end_time": "2021-12-27T18:23:51.126817",
     "exception": false,
     "start_time": "2021-12-27T18:23:51.099328",
     "status": "completed"
    },
    "tags": []
   },
   "outputs": [],
   "source": [
    "lemm = WordNetLemmatizer()\n",
    "snow_stemmer = SnowballStemmer(language=\"english\")\n",
    "def Lemmatizer(string):\n",
    "    tokens = word_tokenize(string)\n",
    "    filtred = [lemm.lemmatize(word) for word in tokens]\n",
    "    filtred_f = [snow_stemmer.stem(word) for word in filtred]\n",
    "    return \" \".join(filtred_f)"
   ]
  },
  {
   "cell_type": "code",
   "execution_count": 14,
   "id": "5b1bd560",
   "metadata": {
    "execution": {
     "iopub.execute_input": "2021-12-27T18:23:51.169368Z",
     "iopub.status.busy": "2021-12-27T18:23:51.166530Z",
     "iopub.status.idle": "2021-12-27T18:23:56.253456Z",
     "shell.execute_reply": "2021-12-27T18:23:56.252872Z",
     "shell.execute_reply.started": "2021-12-27T18:19:45.922451Z"
    },
    "papermill": {
     "duration": 5.108341,
     "end_time": "2021-12-27T18:23:56.253597",
     "exception": false,
     "start_time": "2021-12-27T18:23:51.145256",
     "status": "completed"
    },
    "tags": []
   },
   "outputs": [],
   "source": [
    "tweets_train[\"text\"] = tweets_train[\"text\"].apply(Lemmatizer)\n"
   ]
  },
  {
   "cell_type": "code",
   "execution_count": 15,
   "id": "3ccb0649",
   "metadata": {
    "execution": {
     "iopub.execute_input": "2021-12-27T18:23:56.296230Z",
     "iopub.status.busy": "2021-12-27T18:23:56.295092Z",
     "iopub.status.idle": "2021-12-27T18:23:56.298507Z",
     "shell.execute_reply": "2021-12-27T18:23:56.299029Z",
     "shell.execute_reply.started": "2021-12-27T18:19:52.248191Z"
    },
    "papermill": {
     "duration": 0.026206,
     "end_time": "2021-12-27T18:23:56.299188",
     "exception": false,
     "start_time": "2021-12-27T18:23:56.272982",
     "status": "completed"
    },
    "tags": []
   },
   "outputs": [],
   "source": [
    "from sklearn.feature_extraction.text import CountVectorizer "
   ]
  },
  {
   "cell_type": "code",
   "execution_count": 16,
   "id": "7a6b47d2",
   "metadata": {
    "execution": {
     "iopub.execute_input": "2021-12-27T18:23:56.339846Z",
     "iopub.status.busy": "2021-12-27T18:23:56.338921Z",
     "iopub.status.idle": "2021-12-27T18:23:56.489586Z",
     "shell.execute_reply": "2021-12-27T18:23:56.488977Z",
     "shell.execute_reply.started": "2021-12-27T18:19:52.444100Z"
    },
    "papermill": {
     "duration": 0.171968,
     "end_time": "2021-12-27T18:23:56.489726",
     "exception": false,
     "start_time": "2021-12-27T18:23:56.317758",
     "status": "completed"
    },
    "tags": []
   },
   "outputs": [],
   "source": [
    "Count_V = CountVectorizer(input=\"content\")\n",
    "X = Count_V.fit_transform(np.array(tweets_train[\"text\"]))"
   ]
  },
  {
   "cell_type": "code",
   "execution_count": 17,
   "id": "55716c75",
   "metadata": {
    "execution": {
     "iopub.execute_input": "2021-12-27T18:23:56.533443Z",
     "iopub.status.busy": "2021-12-27T18:23:56.529342Z",
     "iopub.status.idle": "2021-12-27T18:23:56.537102Z",
     "shell.execute_reply": "2021-12-27T18:23:56.536522Z",
     "shell.execute_reply.started": "2021-12-27T18:19:54.122752Z"
    },
    "papermill": {
     "duration": 0.028942,
     "end_time": "2021-12-27T18:23:56.537231",
     "exception": false,
     "start_time": "2021-12-27T18:23:56.508289",
     "status": "completed"
    },
    "tags": []
   },
   "outputs": [
    {
     "data": {
      "text/plain": [
       "0              deed reason earthquak may allah forgiv u\n",
       "1                  forest fire near la rong sask canada\n",
       "2     resid ask shelter place notifi offic evacu she...\n",
       "3           peopl receiv wildfir evacu order california\n",
       "4     just got sent photo rubi alaska smoke wildfir ...\n",
       "5     rockyfir updat california hwi close direct due...\n",
       "6     flood disast heavi rain caus flash flood stree...\n",
       "7                          m top hill can see fire wood\n",
       "8          s emerg evacu happen now build across street\n",
       "9                            m afraid tornado come area\n",
       "10                        three peopl die heat wave far\n",
       "11    haha south tampa get flood hah wait second liv...\n",
       "12    rain flood florida tampabay tampa day ve lost ...\n",
       "13                        flood bago myanmar arriv bago\n",
       "14               damag school bus multi car crash break\n",
       "15                                                s man\n",
       "16                                           love fruit\n",
       "17                                          summer love\n",
       "18                                             car fast\n",
       "19                                      goooooooaaaaaal\n",
       "20                                              ridicul\n",
       "21                                          london cool\n",
       "22                                             love ski\n",
       "23                                           wonder day\n",
       "24                                             looooool\n",
       "25                                   way can t eat shit\n",
       "26                                        nyc last week\n",
       "27                                      love girlfriend\n",
       "28                                               cooool\n",
       "29                                           like pasta\n",
       "30                                                  end\n",
       "31                                wholesal market ablaz\n",
       "32                       alway tri bring heavi metal rt\n",
       "33     africanbaz break news nigeria flag set ablaz aba\n",
       "34                                        cri set ablaz\n",
       "35                  plus side look sky last night ablaz\n",
       "36    mufc ve built much hype around new acquisit do...\n",
       "37                            inec offic abia set ablaz\n",
       "38    barbado bridgetown jamaica uo two car set abla...\n",
       "39                                         ablaz lord d\n",
       "40                                           check nsfw\n",
       "41                   outsid re ablaz aliv re dead insid\n",
       "42    awesom time visit cfc head offic ancop site ab...\n",
       "43                       soooo pump ablaz southridgelif\n",
       "44                  want set chicago ablaz preach hotel\n",
       "45                 gain follow last week know stat grow\n",
       "46     west burn thousand wildfir ablaz california alon\n",
       "47       build perfect tracklist life leav street ablaz\n",
       "48                                           check nsfw\n",
       "49    first night retain s quit weird better get use...\n",
       "Name: text, dtype: object"
      ]
     },
     "execution_count": 17,
     "metadata": {},
     "output_type": "execute_result"
    }
   ],
   "source": [
    "tweets_train[\"text\"].head(50)"
   ]
  },
  {
   "cell_type": "code",
   "execution_count": 18,
   "id": "4aac42ff",
   "metadata": {
    "execution": {
     "iopub.execute_input": "2021-12-27T18:23:56.580043Z",
     "iopub.status.busy": "2021-12-27T18:23:56.579327Z",
     "iopub.status.idle": "2021-12-27T18:23:56.583149Z",
     "shell.execute_reply": "2021-12-27T18:23:56.582566Z",
     "shell.execute_reply.started": "2021-12-27T18:20:15.648446Z"
    },
    "papermill": {
     "duration": 0.027228,
     "end_time": "2021-12-27T18:23:56.583301",
     "exception": false,
     "start_time": "2021-12-27T18:23:56.556073",
     "status": "completed"
    },
    "tags": []
   },
   "outputs": [
    {
     "data": {
      "text/plain": [
       "scipy.sparse.csr.csr_matrix"
      ]
     },
     "execution_count": 18,
     "metadata": {},
     "output_type": "execute_result"
    }
   ],
   "source": [
    "type(X)"
   ]
  },
  {
   "cell_type": "code",
   "execution_count": 19,
   "id": "539098ee",
   "metadata": {
    "execution": {
     "iopub.execute_input": "2021-12-27T18:23:56.627256Z",
     "iopub.status.busy": "2021-12-27T18:23:56.626665Z",
     "iopub.status.idle": "2021-12-27T18:23:56.777319Z",
     "shell.execute_reply": "2021-12-27T18:23:56.776757Z",
     "shell.execute_reply.started": "2021-12-27T18:20:18.022028Z"
    },
    "papermill": {
     "duration": 0.173886,
     "end_time": "2021-12-27T18:23:56.777493",
     "exception": false,
     "start_time": "2021-12-27T18:23:56.603607",
     "status": "completed"
    },
    "tags": []
   },
   "outputs": [],
   "source": [
    "df = pd.DataFrame(X.toarray(),columns=Count_V.get_feature_names())"
   ]
  },
  {
   "cell_type": "code",
   "execution_count": null,
   "id": "41e3dd9d",
   "metadata": {
    "papermill": {
     "duration": 0.019067,
     "end_time": "2021-12-27T18:23:56.816127",
     "exception": false,
     "start_time": "2021-12-27T18:23:56.797060",
     "status": "completed"
    },
    "tags": []
   },
   "outputs": [],
   "source": []
  }
 ],
 "metadata": {
  "kernelspec": {
   "display_name": "Python 3",
   "language": "python",
   "name": "python3"
  },
  "language_info": {
   "codemirror_mode": {
    "name": "ipython",
    "version": 3
   },
   "file_extension": ".py",
   "mimetype": "text/x-python",
   "name": "python",
   "nbconvert_exporter": "python",
   "pygments_lexer": "ipython3",
   "version": "3.7.12"
  },
  "papermill": {
   "default_parameters": {},
   "duration": 22.559194,
   "end_time": "2021-12-27T18:23:59.758048",
   "environment_variables": {},
   "exception": null,
   "input_path": "__notebook__.ipynb",
   "output_path": "__notebook__.ipynb",
   "parameters": {},
   "start_time": "2021-12-27T18:23:37.198854",
   "version": "2.3.3"
  }
 },
 "nbformat": 4,
 "nbformat_minor": 5
}
